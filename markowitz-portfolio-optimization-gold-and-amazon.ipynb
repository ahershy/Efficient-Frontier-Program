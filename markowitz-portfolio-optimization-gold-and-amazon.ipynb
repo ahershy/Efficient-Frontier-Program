{
 "cells": [
  {
   "cell_type": "markdown",
   "metadata": {},
   "source": [
    "**What is Markowitz Portfolio Optimization?**\n",
    "\n",
    "According to the theory, it's possible to construct an \"efficient frontier\" of optimal portfolios offering the maximum possible expected return for a given level of risk. This theory was pioneered by Harry Markowitz in his paper \"Portfolio Selection,\" published in 1952 by the Journal of Finance. He was later awarded a Nobel prize for developing the MPT. \n",
    "\n",
    "**Why it's interesting?**\n",
    "\n",
    "Most of my life, I assumed \"higher risk = higher reward\" when it came to investing. That is typically the case when looking at investing through the paradigm of individual stocks only. If you take into consideration the correlation coefficient between stocks, it's actually possible to receive a higher return and an equal (or lower) risk through diversification. In this outline, I will do my best to guide the reader to see how this is such an exciting concept.\n",
    "\n",
    "**Predictions:**\n",
    "\n",
    "We will be analyzing GLD (SPDR Gold Shares - a gold ETF) and AMZN (Amazon- Seattle E-commerce giant) from November 2004 - May 2019. \n",
    "* Which asset has a higher return? Which has a higher risk?\n",
    "\n",
    "* If we were to make a portfolio solely out of these 2 assets, what ratio of gold to amazon would be the most conservative if our goal was to minimize risk (100% GLD, 0% AMZN), (50% GLD,50% AMZN), etc?\n",
    "\n",
    "* Which ratio would be the most return-maximizing, while simultaneously minimizing amount of risk per unit of return?\n",
    "--------------------------------------------------------------------------------------------------------------------------------"
   ]
  },
  {
   "cell_type": "markdown",
   "metadata": {},
   "source": [
    "Import modules:"
   ]
  },
  {
   "cell_type": "code",
   "execution_count": 1,
   "metadata": {
    "_cell_guid": "b1076dfc-b9ad-4769-8c92-a6c4dae69d19",
    "_uuid": "8f2839f25d086af736a60e9eeb907d3b93b6e0e5"
   },
   "outputs": [],
   "source": [
    "import numpy as np\n",
    "import pandas as pd\n",
    "from pandas_datareader import data as wb\n",
    "import matplotlib.pyplot as plt\n",
    "%matplotlib inline"
   ]
  },
  {
   "cell_type": "markdown",
   "metadata": {},
   "source": [
    "Next, let's pull in the data. \n",
    "Side note: I made another version of this program off Kaggle, and in that version, I connect directly to the Yahoo Finance API, which is much more practical for viewing a large amount of stocks. The code for the api: \n",
    "\n",
    "> assets = ['GLD', 'AMZN',]\n",
    ">\n",
    "> pf_data = pd.DataFrame()\n",
    "> \n",
    "> for a in assets:\n",
    ">\n",
    ">     pf_data[a] = wb.DataReader(a, data_source = 'yahoo', start = '2004-11-18')['Adj Close']\n",
    "\n",
    "But the code we will be using is in csv format:"
   ]
  },
  {
   "cell_type": "code",
   "execution_count": 2,
   "metadata": {
    "_cell_guid": "79c7e3d0-c299-4dcb-8224-4455121ee9b0",
    "_uuid": "d629ff2d2480ee46fbb7e2d37f6b5fab8052498a"
   },
   "outputs": [],
   "source": [
    "pf_data = pd.read_csv('../input/GLD_AMZN.csv', index_col = 'Date')"
   ]
  },
  {
   "cell_type": "markdown",
   "metadata": {},
   "source": [
    "Now that we have the data pulled in and assigned it to a variable, let's go ahead and plot the normalized price trends. From this perspective, Amazon has by far been the superior asset for the last 15 years. Remember, high return implies high risk, right?"
   ]
  },
  {
   "cell_type": "code",
   "execution_count": 3,
   "metadata": {},
   "outputs": [
    {
     "data": {
      "text/plain": [
       "<matplotlib.axes._subplots.AxesSubplot at 0x7fd72396bfd0>"
      ]
     },
     "execution_count": 3,
     "metadata": {},
     "output_type": "execute_result"
    },
    {
     "data": {
      "image/png": "[encoded data removed]",
      "text/plain": [
       "<Figure size 720x360 with 1 Axes>"
      ]
     },
     "metadata": {},
     "output_type": "display_data"
    }
   ],
   "source": [
    "(pf_data / pf_data.iloc[0] * 100).plot(figsize=(10, 5))"
   ]
  },
  {
   "cell_type": "markdown",
   "metadata": {},
   "source": [
    "Let's dig into the real numbers. We're going to calculate the log returns, standard deviation, covariance, and correlation for these stocks."
   ]
  },
  {
   "cell_type": "markdown",
   "metadata": {},
   "source": [
    "**Means**"
   ]
  },
  {
   "cell_type": "code",
   "execution_count": 4,
   "metadata": {},
   "outputs": [
    {
     "data": {
      "text/plain": [
       "AMZN    0.260615\n",
       "GLD     0.068776\n",
       "dtype: float64"
      ]
     },
     "execution_count": 4,
     "metadata": {},
     "output_type": "execute_result"
    }
   ],
   "source": [
    "log_returns = np.log(pf_data / pf_data.shift(1))\n",
    "log_returns.mean()*250"
   ]
  },
  {
   "cell_type": "markdown",
   "metadata": {},
   "source": [
    "**Risks**"
   ]
  },
  {
   "cell_type": "code",
   "execution_count": 5,
   "metadata": {},
   "outputs": [
    {
     "data": {
      "text/plain": [
       "AMZN    0.386061\n",
       "GLD     0.182756\n",
       "dtype: float64"
      ]
     },
     "execution_count": 5,
     "metadata": {},
     "output_type": "execute_result"
    }
   ],
   "source": [
    "log_returns.std()*250**0.5"
   ]
  },
  {
   "cell_type": "markdown",
   "metadata": {},
   "source": [
    "**Covariance**"
   ]
  },
  {
   "cell_type": "code",
   "execution_count": 6,
   "metadata": {},
   "outputs": [
    {
     "data": {
      "text/html": [
       "<div>\n",
       "<style scoped>\n",
       "    .dataframe tbody tr th:only-of-type {\n",
       "        vertical-align: middle;\n",
       "    }\n",
       "\n",
       "    .dataframe tbody tr th {\n",
       "        vertical-align: top;\n",
       "    }\n",
       "\n",
       "    .dataframe thead th {\n",
       "        text-align: right;\n",
       "    }\n",
       "</style>\n",
       "<table border=\"1\" class=\"dataframe\">\n",
       "  <thead>\n",
       "    <tr style=\"text-align: right;\">\n",
       "      <th></th>\n",
       "      <th>AMZN</th>\n",
       "      <th>GLD</th>\n",
       "    </tr>\n",
       "  </thead>\n",
       "  <tbody>\n",
       "    <tr>\n",
       "      <th>AMZN</th>\n",
       "      <td>0.000596</td>\n",
       "      <td>-0.000007</td>\n",
       "    </tr>\n",
       "    <tr>\n",
       "      <th>GLD</th>\n",
       "      <td>-0.000007</td>\n",
       "      <td>0.000134</td>\n",
       "    </tr>\n",
       "  </tbody>\n",
       "</table>\n",
       "</div>"
      ],
      "text/plain": [
       "          AMZN       GLD\n",
       "AMZN  0.000596 -0.000007\n",
       "GLD  -0.000007  0.000134"
      ]
     },
     "execution_count": 6,
     "metadata": {},
     "output_type": "execute_result"
    }
   ],
   "source": [
    "log_returns.cov()"
   ]
  },
  {
   "cell_type": "markdown",
   "metadata": {},
   "source": [
    "**Correlation**\n",
    "\n",
    "There is a very low correlation; however, any correlation still has an impact. "
   ]
  },
  {
   "cell_type": "code",
   "execution_count": 7,
   "metadata": {},
   "outputs": [
    {
     "data": {
      "text/html": [
       "<div>\n",
       "<style scoped>\n",
       "    .dataframe tbody tr th:only-of-type {\n",
       "        vertical-align: middle;\n",
       "    }\n",
       "\n",
       "    .dataframe tbody tr th {\n",
       "        vertical-align: top;\n",
       "    }\n",
       "\n",
       "    .dataframe thead th {\n",
       "        text-align: right;\n",
       "    }\n",
       "</style>\n",
       "<table border=\"1\" class=\"dataframe\">\n",
       "  <thead>\n",
       "    <tr style=\"text-align: right;\">\n",
       "      <th></th>\n",
       "      <th>AMZN</th>\n",
       "      <th>GLD</th>\n",
       "    </tr>\n",
       "  </thead>\n",
       "  <tbody>\n",
       "    <tr>\n",
       "      <th>AMZN</th>\n",
       "      <td>1.000000</td>\n",
       "      <td>-0.024108</td>\n",
       "    </tr>\n",
       "    <tr>\n",
       "      <th>GLD</th>\n",
       "      <td>-0.024108</td>\n",
       "      <td>1.000000</td>\n",
       "    </tr>\n",
       "  </tbody>\n",
       "</table>\n",
       "</div>"
      ],
      "text/plain": [
       "          AMZN       GLD\n",
       "AMZN  1.000000 -0.024108\n",
       "GLD  -0.024108  1.000000"
      ]
     },
     "execution_count": 7,
     "metadata": {},
     "output_type": "execute_result"
    }
   ],
   "source": [
    "log_returns.corr()"
   ]
  },
  {
   "cell_type": "markdown",
   "metadata": {},
   "source": [
    "We will use this piece of code later. But to briefly explain, I'm making an array with 2 random numbers that will add up to 1. "
   ]
  },
  {
   "cell_type": "code",
   "execution_count": 8,
   "metadata": {},
   "outputs": [
    {
     "data": {
      "text/plain": [
       "array([0.46792848, 0.53207152])"
      ]
     },
     "execution_count": 8,
     "metadata": {},
     "output_type": "execute_result"
    }
   ],
   "source": [
    "weights = np.random.random(2)\n",
    "weights = weights/np.sum(weights)\n",
    "weights"
   ]
  },
  {
   "cell_type": "markdown",
   "metadata": {},
   "source": [
    "Now it's time for us to run a simulation. We are doing this to see all the possible combinations of gold and amazon weights. With each random set of weights, our simulation will calculate a new annual return and standard deviation for the portfolio. \n",
    "\n",
    "We start by making 2 empty lists called 'pfolio_returns' and 'pfolio_volatilities'. These will capture all simulation calculations of the **for** function beneath it. \n",
    "\n",
    "We add in our random weights generator code from earlier and have 1000 interations of random weights plug into our portfolio return and portfolio volatility formulas. The append method is what creates a new entry to the list with each interation. "
   ]
  },
  {
   "cell_type": "code",
   "execution_count": 9,
   "metadata": {},
   "outputs": [
    {
     "data": {
      "text/plain": [
       "(array([0.08433641, 0.14051932, 0.13398214, 0.1999035 , 0.22997431,\n",
       "        0.18359119, 0.11226297, 0.18499792, 0.13470566, 0.23569316,\n",
       "        0.1314668 , 0.14839964, 0.10983728, 0.21858163, 0.12405821,\n",
       "        0.22597355, 0.14672683, 0.08946818, 0.1913734 , 0.08570224,\n",
       "        0.25608485, 0.14586459, 0.10742385, 0.23704636, 0.11060216,\n",
       "        0.20095439, 0.13971551, 0.15376506, 0.18808351, 0.21641281,\n",
       "        0.17648651, 0.19921818, 0.23825409, 0.19409554, 0.11429877,\n",
       "        0.13804168, 0.16148732, 0.08557895, 0.17814682, 0.14448733,\n",
       "        0.17894828, 0.15725304, 0.16307958, 0.176081  , 0.22201429,\n",
       "        0.23940759, 0.16124141, 0.15919391, 0.19532145, 0.17596034,\n",
       "        0.14736934, 0.21163907, 0.15425024, 0.12604827, 0.15790768,\n",
       "        0.08219829, 0.09036254, 0.16580377, 0.12002918, 0.09480613,\n",
       "        0.23379622, 0.15428973, 0.15772453, 0.11467903, 0.16085118,\n",
       "        0.18603394, 0.24684841, 0.18279948, 0.2175761 , 0.20511464,\n",
       "        0.17418313, 0.11768039, 0.24898633, 0.15032634, 0.19432797,\n",
       "        0.12433978, 0.17141481, 0.078092  , 0.15276685, 0.19850298,\n",
       "        0.0819477 , 0.22515319, 0.18244167, 0.16211391, 0.16321445,\n",
       "        0.1789693 , 0.1014394 , 0.16446945, 0.12425808, 0.18473999,\n",
       "        0.09771005, 0.14353682, 0.15434261, 0.16340237, 0.19754404,\n",
       "        0.13524466, 0.19429991, 0.11609617, 0.14788415, 0.11220823,\n",
       "        0.13450417, 0.08786874, 0.21872277, 0.19051038, 0.15071181,\n",
       "        0.11815078, 0.18285416, 0.10015941, 0.16578779, 0.19548462,\n",
       "        0.13310426, 0.18634687, 0.24783194, 0.19003501, 0.16418976,\n",
       "        0.16703891, 0.16980191, 0.10276567, 0.14372174, 0.22749636,\n",
       "        0.19394379, 0.16428774, 0.20712496, 0.17363872, 0.12666209,\n",
       "        0.24746402, 0.16795821, 0.11025185, 0.12160168, 0.12551956,\n",
       "        0.14555406, 0.16245745, 0.12842762, 0.06887984, 0.1848082 ,\n",
       "        0.18308812, 0.2539347 , 0.10070821, 0.21590185, 0.23565541,\n",
       "        0.10822459, 0.22441086, 0.129859  , 0.18810993, 0.07859905,\n",
       "        0.13255265, 0.16430435, 0.16148529, 0.19942213, 0.20736516,\n",
       "        0.15746681, 0.16953005, 0.24381572, 0.12871314, 0.22811811,\n",
       "        0.19035337, 0.12703754, 0.15591678, 0.17092125, 0.07318505,\n",
       "        0.20547749, 0.22590318, 0.21599899, 0.08541587, 0.19139594,\n",
       "        0.10387795, 0.08753411, 0.16689447, 0.19167223, 0.08614756,\n",
       "        0.1821318 , 0.1533289 , 0.08321331, 0.08624907, 0.13972956,\n",
       "        0.17513452, 0.12489674, 0.14487887, 0.15258949, 0.20174497,\n",
       "        0.1792593 , 0.21397255, 0.19751081, 0.15610725, 0.08822583,\n",
       "        0.09809156, 0.12505921, 0.07030029, 0.2015325 , 0.19766539,\n",
       "        0.15462871, 0.25505148, 0.11102568, 0.17077698, 0.16536769,\n",
       "        0.09904607, 0.19651154, 0.15363936, 0.18086729, 0.10437271,\n",
       "        0.24190727, 0.19391507, 0.24757939, 0.07428909, 0.14210718,\n",
       "        0.09692467, 0.13855547, 0.13894173, 0.12816365, 0.17610103,\n",
       "        0.18606875, 0.16424079, 0.1706387 , 0.15844   , 0.2246036 ,\n",
       "        0.11868165, 0.22002042, 0.16188234, 0.07734726, 0.13956878,\n",
       "        0.2006648 , 0.16609912, 0.22332965, 0.22865015, 0.15679771,\n",
       "        0.15167479, 0.12410316, 0.14552871, 0.24989627, 0.17298993,\n",
       "        0.14688801, 0.2357253 , 0.19873219, 0.19050651, 0.16855265,\n",
       "        0.22915803, 0.17114079, 0.16891323, 0.1877317 , 0.19653041,\n",
       "        0.08962219, 0.14329578, 0.21715118, 0.17312174, 0.19099737,\n",
       "        0.15742594, 0.08146007, 0.1465571 , 0.19528376, 0.21903623,\n",
       "        0.18259488, 0.25538821, 0.1513116 , 0.11846832, 0.15526371,\n",
       "        0.17940969, 0.1449667 , 0.20148936, 0.10310493, 0.10421538,\n",
       "        0.17513287, 0.15369869, 0.18676666, 0.16425822, 0.11371644,\n",
       "        0.22835036, 0.13593998, 0.09740878, 0.10479022, 0.16538573,\n",
       "        0.18388925, 0.14334755, 0.15835599, 0.24375453, 0.19297272,\n",
       "        0.16497351, 0.14223755, 0.16253861, 0.21908681, 0.11693005,\n",
       "        0.18724398, 0.17035739, 0.14018923, 0.22218869, 0.15111918,\n",
       "        0.12171339, 0.18458553, 0.20895508, 0.21848728, 0.14711284,\n",
       "        0.13784999, 0.12553363, 0.17532414, 0.11856833, 0.13985306,\n",
       "        0.22879104, 0.13597219, 0.1217124 , 0.19211514, 0.20428655,\n",
       "        0.12053781, 0.2164871 , 0.12146346, 0.12555439, 0.07749444,\n",
       "        0.15072837, 0.14471918, 0.17637245, 0.14811116, 0.09447215,\n",
       "        0.18468759, 0.1537443 , 0.18128255, 0.19503849, 0.20976883,\n",
       "        0.09762277, 0.217905  , 0.16669526, 0.20946834, 0.16459208,\n",
       "        0.23994668, 0.10884355, 0.20302806, 0.18897457, 0.1962854 ,\n",
       "        0.20843609, 0.18210571, 0.21731951, 0.20249139, 0.16994031,\n",
       "        0.08083512, 0.12547344, 0.11036525, 0.17594227, 0.16053887,\n",
       "        0.11682523, 0.1715172 , 0.19304582, 0.17371725, 0.10138548,\n",
       "        0.24981439, 0.19199715, 0.18250342, 0.0746256 , 0.16228673,\n",
       "        0.14528992, 0.17371015, 0.12210438, 0.09287249, 0.21115672,\n",
       "        0.19192   , 0.17536039, 0.22490074, 0.18274953, 0.1343364 ,\n",
       "        0.0712289 , 0.16577142, 0.2131084 , 0.15899555, 0.23952093,\n",
       "        0.15527996, 0.14630602, 0.22886201, 0.16339191, 0.14755562,\n",
       "        0.1451703 , 0.1073032 , 0.0786378 , 0.20620285, 0.11531661,\n",
       "        0.13834252, 0.24849681, 0.13306609, 0.18226769, 0.09333345,\n",
       "        0.08639963, 0.12818863, 0.25659997, 0.17691308, 0.15316335,\n",
       "        0.20389436, 0.1901158 , 0.18478371, 0.18335666, 0.18081504,\n",
       "        0.16437883, 0.15356066, 0.17396559, 0.09106955, 0.20069495,\n",
       "        0.2194858 , 0.16181655, 0.16153773, 0.23727224, 0.1325391 ,\n",
       "        0.15058197, 0.14392616, 0.08279463, 0.23843785, 0.18197759,\n",
       "        0.22918953, 0.22820443, 0.19446142, 0.16456532, 0.14504934,\n",
       "        0.0732154 , 0.24095212, 0.15819386, 0.15848063, 0.14507667,\n",
       "        0.20238081, 0.23001832, 0.22331817, 0.12821226, 0.16962629,\n",
       "        0.18608274, 0.16561312, 0.16900087, 0.11264467, 0.17412845,\n",
       "        0.15051073, 0.16049116, 0.12376606, 0.17307207, 0.17730792,\n",
       "        0.10810918, 0.09720548, 0.17387312, 0.14100052, 0.12563412,\n",
       "        0.15523717, 0.09778014, 0.14925801, 0.16187566, 0.18049686,\n",
       "        0.21075786, 0.1826279 , 0.15981957, 0.23719315, 0.22702511,\n",
       "        0.18854215, 0.23532992, 0.1931796 , 0.10937852, 0.11939495,\n",
       "        0.07321265, 0.08557467, 0.20824652, 0.15476484, 0.18225432,\n",
       "        0.1411343 , 0.18669654, 0.14165252, 0.17476478, 0.16601636,\n",
       "        0.16532282, 0.10097688, 0.19883628, 0.17688687, 0.20121488,\n",
       "        0.20157303, 0.1868732 , 0.17423337, 0.24007141, 0.08567364,\n",
       "        0.16921682, 0.21185858, 0.18465718, 0.1616156 , 0.15272447,\n",
       "        0.18871006, 0.1593158 , 0.15863311, 0.14370971, 0.13910838,\n",
       "        0.14567178, 0.14104476, 0.08015575, 0.20892763, 0.25396053,\n",
       "        0.10178008, 0.17822168, 0.1475812 , 0.08423366, 0.12313816,\n",
       "        0.15167114, 0.1354376 , 0.15478893, 0.14350729, 0.24115471,\n",
       "        0.18175316, 0.2053828 , 0.12017875, 0.18343132, 0.07900008,\n",
       "        0.12497404, 0.15737686, 0.23622024, 0.18267203, 0.14535628,\n",
       "        0.15883689, 0.15875173, 0.17111707, 0.25318167, 0.20174597,\n",
       "        0.16220035, 0.18391572, 0.16684539, 0.21714024, 0.25701938,\n",
       "        0.18507358, 0.12895523, 0.07917831, 0.07421268, 0.24946075,\n",
       "        0.21482499, 0.12144463, 0.09404738, 0.14915866, 0.17766355,\n",
       "        0.08239047, 0.23680235, 0.14365271, 0.19440773, 0.2271885 ,\n",
       "        0.15731252, 0.20140063, 0.15686978, 0.22486929, 0.17298021,\n",
       "        0.14882046, 0.25990478, 0.11804151, 0.13102588, 0.09126815,\n",
       "        0.14106961, 0.22918387, 0.19753431, 0.24871256, 0.17544842,\n",
       "        0.14639132, 0.09930661, 0.21093964, 0.18133266, 0.11026901,\n",
       "        0.16037509, 0.09478262, 0.07515722, 0.18561086, 0.14214377,\n",
       "        0.20763633, 0.11659675, 0.20795772, 0.11909841, 0.09822196,\n",
       "        0.16317043, 0.15653097, 0.13084316, 0.20567793, 0.19778772,\n",
       "        0.11725733, 0.18483189, 0.10518853, 0.17545461, 0.13588085,\n",
       "        0.17205466, 0.17993847, 0.11741908, 0.13999881, 0.15858525,\n",
       "        0.09045818, 0.07649972, 0.16455525, 0.12541995, 0.13505153,\n",
       "        0.17275955, 0.20584124, 0.15386635, 0.1828123 , 0.10166456,\n",
       "        0.08062388, 0.1265823 , 0.17146705, 0.19594975, 0.15255548,\n",
       "        0.10329767, 0.23933913, 0.14833066, 0.10833427, 0.1300669 ,\n",
       "        0.10822233, 0.24925154, 0.16603004, 0.1960669 , 0.15281066,\n",
       "        0.18426757, 0.12939847, 0.15839423, 0.15944987, 0.10504733,\n",
       "        0.19399212, 0.14863461, 0.16195974, 0.17942242, 0.09785508,\n",
       "        0.16638421, 0.2445096 , 0.15762961, 0.15268813, 0.13975438,\n",
       "        0.16308775, 0.20309864, 0.24632004, 0.19140422, 0.17724851,\n",
       "        0.23554928, 0.12912036, 0.21927902, 0.1037451 , 0.09313441,\n",
       "        0.10338717, 0.18647816, 0.11235562, 0.16469841, 0.095835  ,\n",
       "        0.10427932, 0.23620282, 0.12163432, 0.1535696 , 0.18988518,\n",
       "        0.16259752, 0.14781881, 0.1873716 , 0.23910009, 0.18595509,\n",
       "        0.17604502, 0.20945137, 0.14524806, 0.15962961, 0.15034966,\n",
       "        0.1776607 , 0.18277637, 0.21805187, 0.21512078, 0.16954086,\n",
       "        0.16370147, 0.18431883, 0.20176162, 0.15522485, 0.17162452,\n",
       "        0.19024262, 0.10437932, 0.22705052, 0.16547467, 0.20818509,\n",
       "        0.15510184, 0.17591919, 0.16628554, 0.11009659, 0.16482435,\n",
       "        0.18045153, 0.09515174, 0.15766514, 0.14840529, 0.13578423,\n",
       "        0.16520782, 0.20653734, 0.10681923, 0.25521265, 0.16352452,\n",
       "        0.21341027, 0.12629121, 0.18026055, 0.24878013, 0.23540513,\n",
       "        0.16314327, 0.0911204 , 0.13674608, 0.13605857, 0.19866364,\n",
       "        0.0903009 , 0.16412933, 0.12104375, 0.13884463, 0.07598152,\n",
       "        0.26049584, 0.14390665, 0.21271959, 0.15688125, 0.23561049,\n",
       "        0.15012332, 0.12765866, 0.19732348, 0.17690837, 0.13274551,\n",
       "        0.17610893, 0.12075312, 0.20055527, 0.23468446, 0.09374836,\n",
       "        0.1301836 , 0.1707367 , 0.16544333, 0.13935875, 0.12262795,\n",
       "        0.17847237, 0.17956118, 0.24826557, 0.14815808, 0.13908915,\n",
       "        0.23006705, 0.07760918, 0.17117591, 0.12191193, 0.17832055,\n",
       "        0.16442543, 0.21869999, 0.16532923, 0.16270862, 0.21334284,\n",
       "        0.09727191, 0.17469351, 0.17194634, 0.21794826, 0.15523525,\n",
       "        0.14652297, 0.07169652, 0.0799486 , 0.18642875, 0.15679351,\n",
       "        0.11135195, 0.15291242, 0.12607807, 0.17943037, 0.13872251,\n",
       "        0.16814837, 0.1181357 , 0.20521459, 0.10976144, 0.19477152,\n",
       "        0.14146284, 0.16157121, 0.20292793, 0.17722043, 0.16404484,\n",
       "        0.08112029, 0.1939243 , 0.19028824, 0.19287999, 0.17224858,\n",
       "        0.17281566, 0.171525  , 0.24629355, 0.21033566, 0.20649659,\n",
       "        0.14779664, 0.0744872 , 0.17166519, 0.08607853, 0.2485816 ,\n",
       "        0.21771442, 0.18326761, 0.24530315, 0.09027576, 0.25712246,\n",
       "        0.10316262, 0.18336781, 0.10877797, 0.21265549, 0.14121129,\n",
       "        0.12057308, 0.15172379, 0.09886524, 0.14064592, 0.19446115,\n",
       "        0.16047198, 0.23763786, 0.16211583, 0.15896532, 0.17446662,\n",
       "        0.17478988, 0.15716274, 0.07983814, 0.19143244, 0.17227444,\n",
       "        0.19590783, 0.10398283, 0.16073101, 0.15516825, 0.10518983,\n",
       "        0.20434332, 0.19318222, 0.17875072, 0.13454966, 0.14131365,\n",
       "        0.18506505, 0.17160556, 0.20564313, 0.08446203, 0.25819537,\n",
       "        0.18337609, 0.17661843, 0.08667413, 0.22249411, 0.10737913,\n",
       "        0.14927013, 0.09252399, 0.11025236, 0.14184197, 0.17090802,\n",
       "        0.11534102, 0.11479576, 0.16989389, 0.23789997, 0.16813508,\n",
       "        0.21287167, 0.19273516, 0.17560703, 0.22127549, 0.19540156,\n",
       "        0.15225243, 0.15159213, 0.19636927, 0.08442371, 0.09701328,\n",
       "        0.10868082, 0.2503327 , 0.21524317, 0.15654385, 0.1832428 ,\n",
       "        0.13966969, 0.20581667, 0.17656109, 0.13561306, 0.2370721 ,\n",
       "        0.21339477, 0.15833402, 0.14288377, 0.2590687 , 0.16715338,\n",
       "        0.1502799 , 0.20890447, 0.16112961, 0.07519525, 0.1977297 ,\n",
       "        0.14935736, 0.14822475, 0.14839309, 0.17699299, 0.15721347,\n",
       "        0.14115834, 0.21363151, 0.22520491, 0.15298997, 0.18550607,\n",
       "        0.13630067, 0.17504695, 0.14277853, 0.23890459, 0.21471122,\n",
       "        0.1980973 , 0.08386893, 0.08401069, 0.19056822, 0.21529972,\n",
       "        0.14208602, 0.16138688, 0.20197489, 0.11605846, 0.13380919,\n",
       "        0.26034186, 0.17262743, 0.23465912, 0.10048383, 0.2131646 ,\n",
       "        0.09664082, 0.155188  , 0.13821869, 0.22468273, 0.16184915,\n",
       "        0.25443662, 0.15438436, 0.22362636, 0.16559477, 0.24834174,\n",
       "        0.15097274, 0.18841683, 0.23355752, 0.22385657, 0.09783317,\n",
       "        0.23490564, 0.16361939, 0.22531772, 0.0838939 , 0.20230993,\n",
       "        0.1846632 , 0.18407365, 0.16184024, 0.25294428, 0.19031583,\n",
       "        0.16239044, 0.14383395, 0.15822932, 0.21289098, 0.15227751,\n",
       "        0.16613144, 0.18525575, 0.15996767, 0.13321559, 0.19402115,\n",
       "        0.07840958, 0.14101477, 0.08037085, 0.24962667, 0.09416678,\n",
       "        0.1329551 , 0.14465917, 0.25445877, 0.21361892, 0.12855504,\n",
       "        0.10089668, 0.17110756, 0.23887044, 0.10801873, 0.11093341,\n",
       "        0.17500483, 0.19880165, 0.18938923, 0.18225662, 0.17631364,\n",
       "        0.09375237, 0.1919423 , 0.25942253, 0.17319095, 0.11344543,\n",
       "        0.15028673, 0.1700179 , 0.25696223, 0.0785012 , 0.13956044,\n",
       "        0.07277057, 0.14125673, 0.17432339, 0.21601917, 0.14560751,\n",
       "        0.15957865, 0.23324751, 0.20740707, 0.16945286, 0.13201278,\n",
       "        0.09881112, 0.17838141, 0.15766683, 0.21160003, 0.1927912 ,\n",
       "        0.16892714, 0.14904107, 0.17009784, 0.09461071, 0.1155626 ,\n",
       "        0.18019844, 0.19353473, 0.16160247, 0.24578664, 0.14373944,\n",
       "        0.17717855, 0.19180378, 0.0814768 , 0.25857165, 0.15923834,\n",
       "        0.11280651, 0.23994759, 0.18506676, 0.16158777, 0.24622648,\n",
       "        0.19949616, 0.17718344, 0.15238038, 0.16082545, 0.15826936,\n",
       "        0.2079099 , 0.07339646, 0.16777395, 0.17246038, 0.17467839,\n",
       "        0.23800311, 0.13481873, 0.13624999, 0.14593059, 0.23620079,\n",
       "        0.16559449, 0.15596594, 0.19362078, 0.23189964, 0.23464064,\n",
       "        0.1574083 , 0.25123862, 0.17262102, 0.16996146, 0.18784676]),\n",
       " array([0.17008332, 0.18203879, 0.17609485, 0.2687828 , 0.32500869,\n",
       "        0.2407365 , 0.16442634, 0.24306485, 0.17670245, 0.33617503,\n",
       "        0.17408418, 0.19046773, 0.16397566, 0.30316204, 0.16912353,\n",
       "        0.31727285, 0.18857095, 0.16730178, 0.2538431 , 0.16927076,\n",
       "        0.37686593, 0.18761519, 0.16370625, 0.3388347 , 0.16409836,\n",
       "        0.27066022, 0.18125424, 0.19691277, 0.24823648, 0.2990706 ,\n",
       "        0.22928208, 0.26756261, 0.34121382, 0.25855008, 0.16494272,\n",
       "        0.17966783, 0.20707101, 0.16934199, 0.23191114, 0.18612023,\n",
       "        0.23319099, 0.20137934, 0.20928319, 0.22864462, 0.30968397,\n",
       "        0.34349075, 0.20673276, 0.20395285, 0.26068898, 0.22845532,\n",
       "        0.1892929 , 0.29015021, 0.1975215 , 0.17031043, 0.20224051,\n",
       "        0.17145795, 0.16689383, 0.21315407, 0.16706163, 0.16521486,\n",
       "        0.33245767, 0.19757123, 0.20199887, 0.16505305, 0.20619791,\n",
       "        0.24479156, 0.35828141, 0.23943451, 0.30126222, 0.27816492,\n",
       "        0.22568617, 0.16607568, 0.36256212, 0.19272012, 0.2589547 ,\n",
       "        0.16928479, 0.22144726, 0.17443906, 0.19567353, 0.26629274,\n",
       "        0.17162715, 0.31569483, 0.2388481 , 0.20793701, 0.20947231,\n",
       "        0.23322464, 0.16381277, 0.2112448 , 0.16923778, 0.24263654,\n",
       "        0.16443632, 0.18511163, 0.19763786, 0.20973625, 0.26459588,\n",
       "        0.17716345, 0.25890583, 0.16550244, 0.18987731, 0.16441419,\n",
       "        0.17653195, 0.1680888 , 0.3034291 , 0.25236344, 0.19317925,\n",
       "        0.16626018, 0.23952423, 0.16397879, 0.21313106, 0.26097454,\n",
       "        0.17537503, 0.24531508, 0.36024908, 0.25155108, 0.2108478 ,\n",
       "        0.21494361, 0.21902121, 0.16369391, 0.18530635, 0.32020962,\n",
       "        0.25828613, 0.21098674, 0.28183089, 0.22484527, 0.17069849,\n",
       "        0.35951268, 0.21628904, 0.16403994, 0.16781127, 0.16998443,\n",
       "        0.18727471, 0.20841433, 0.17187153, 0.18265235, 0.24274975,\n",
       "        0.23990847, 0.37251915, 0.16390145, 0.29811011, 0.33610093,\n",
       "        0.16377578, 0.31426937, 0.17288356, 0.24828112, 0.17404723,\n",
       "        0.1749326 , 0.21101033, 0.20706821, 0.26792539, 0.28227055,\n",
       "        0.20165978, 0.21861555, 0.35223227, 0.17206907, 0.32141143,\n",
       "        0.2520949 , 0.17094091, 0.19964362, 0.22070138, 0.17856243,\n",
       "        0.27882476, 0.31713737, 0.29829261, 0.16943684, 0.25388182,\n",
       "        0.16363601, 0.16826271, 0.21473326, 0.25435688, 0.16901704,\n",
       "        0.23834128, 0.19636911, 0.17078991, 0.16895998, 0.18126784,\n",
       "        0.22716403, 0.16961028, 0.18654122, 0.19545521, 0.27207755,\n",
       "        0.23368951, 0.29449558, 0.2645372 , 0.1998892 , 0.16790674,\n",
       "        0.16435302, 0.16970685, 0.18125606, 0.27169622, 0.26481025,\n",
       "        0.19799922, 0.37477538, 0.164174  , 0.22048394, 0.21252732,\n",
       "        0.16416404, 0.26277636, 0.19675575, 0.23628306, 0.16362252,\n",
       "        0.34844008, 0.25823619, 0.35974354, 0.17758335, 0.18363097,\n",
       "        0.16462172, 0.18014792, 0.18051287, 0.17169083, 0.22867606,\n",
       "        0.24484975, 0.21092015, 0.22027576, 0.20294595, 0.31463925,\n",
       "        0.16647623, 0.30588893, 0.20761628, 0.17502641, 0.18111261,\n",
       "        0.27014211, 0.21358008, 0.31219751, 0.32244109, 0.20078454,\n",
       "        0.19433838, 0.16914913, 0.187247  , 0.36438804, 0.22384776,\n",
       "        0.18875128, 0.33623813, 0.26669932, 0.25235681, 0.21716506,\n",
       "        0.32342506, 0.22103277, 0.21769871, 0.24764247, 0.26280953,\n",
       "        0.16722988, 0.1848589 , 0.30046089, 0.22405001, 0.25319763,\n",
       "        0.2016061 , 0.1719612 , 0.18838162, 0.26062304, 0.30402256,\n",
       "        0.23909903, 0.3754563 , 0.19389919, 0.16638842, 0.19880632,\n",
       "        0.23393093, 0.18663611, 0.27161884, 0.1636722 , 0.16362599,\n",
       "        0.22716146, 0.19682982, 0.24601876, 0.21094488, 0.16478221,\n",
       "        0.32186078, 0.17776856, 0.16450522, 0.16361701, 0.21255321,\n",
       "        0.24122825, 0.18491307, 0.2028343 , 0.3521105 , 0.25660135,\n",
       "        0.21196309, 0.18376415, 0.20852734, 0.30411836, 0.16579489,\n",
       "        0.24682082, 0.219853  , 0.18171485, 0.31001679, 0.1936675 ,\n",
       "        0.16786723, 0.24238033, 0.28518948, 0.30298356, 0.1890037 ,\n",
       "        0.17949028, 0.16999301, 0.22745984, 0.16642942, 0.18138746,\n",
       "        0.32271396, 0.17779687, 0.16786673, 0.25511974, 0.27666218,\n",
       "        0.1672963 , 0.29921037, 0.16774253, 0.17000567, 0.17490922,\n",
       "        0.19319904, 0.18636914, 0.2291026 , 0.19013667, 0.16532068,\n",
       "        0.2425496 , 0.19688682, 0.23695719, 0.26019425, 0.28668917,\n",
       "        0.164456  , 0.3018831 , 0.21444361, 0.28613494, 0.21141921,\n",
       "        0.34455641, 0.16384304, 0.27438677, 0.24974583, 0.2623789 ,\n",
       "        0.28423504, 0.23829864, 0.30077825, 0.27341958, 0.21922808,\n",
       "        0.17239855, 0.16995636, 0.16405844, 0.22842697, 0.20577155,\n",
       "        0.165757  , 0.22160238, 0.25672791, 0.22496636, 0.16381875,\n",
       "        0.36422366, 0.25491637, 0.23894921, 0.17729075, 0.2081769 ,\n",
       "        0.18698664, 0.22495541, 0.16806589, 0.16587369, 0.2892557 ,\n",
       "        0.25478344, 0.22751644, 0.3152098 , 0.23935258, 0.17639075,\n",
       "        0.18036793, 0.21310749, 0.29288293, 0.20368705, 0.34371472,\n",
       "        0.19882707, 0.18810261, 0.32285143, 0.20972155, 0.18950376,\n",
       "        0.18685665, 0.16369749, 0.17401756, 0.28014627, 0.16524779,\n",
       "        0.17994819, 0.3615808 , 0.17534417, 0.23856341, 0.16570653,\n",
       "        0.16887588, 0.17170785, 0.37790905, 0.22995465, 0.19616363,\n",
       "        0.27595198, 0.251689  , 0.24270909, 0.24035018, 0.23619837,\n",
       "        0.21111605, 0.19665757, 0.22534975, 0.16658779, 0.27019603,\n",
       "        0.30487453, 0.20752529, 0.20714046, 0.33927928, 0.17492183,\n",
       "        0.19302429, 0.18552245, 0.1710621 , 0.34157625, 0.23808942,\n",
       "        0.32348612, 0.32157841, 0.25918722, 0.21138113, 0.18672552,\n",
       "        0.17853512, 0.34654649, 0.20261918, 0.20299997, 0.18675513,\n",
       "        0.27322054, 0.32509414, 0.31217555, 0.17172397, 0.21875904,\n",
       "        0.24487313, 0.21287974, 0.21782867, 0.16451359, 0.22560155,\n",
       "        0.1929394 , 0.20570655, 0.16895855, 0.22397378, 0.23057897,\n",
       "        0.16376454, 0.16455328, 0.2252069 , 0.1825154 , 0.17005442,\n",
       "        0.19877244, 0.16442068, 0.19146238, 0.20760702, 0.2356832 ,\n",
       "        0.28851699, 0.23915315, 0.20479535, 0.3391236 , 0.31929976,\n",
       "        0.24901249, 0.33546219, 0.25695966, 0.16391067, 0.16677951,\n",
       "        0.17853759, 0.16934446, 0.2838868 , 0.19817166, 0.23854155,\n",
       "        0.18264882, 0.2459011 , 0.18316939, 0.22658844, 0.21346058,\n",
       "        0.21246298, 0.16386696, 0.26688408, 0.22991326, 0.27112676,\n",
       "        0.27176894, 0.24619759, 0.22576395, 0.34480312, 0.16928725,\n",
       "        0.21814935, 0.29055772, 0.24249915, 0.20724782, 0.19562131,\n",
       "        0.24929706, 0.20411649, 0.20320299, 0.18529366, 0.18067138,\n",
       "        0.18740355, 0.18255948, 0.17288568, 0.28513896, 0.37257131,\n",
       "        0.16377707, 0.23203039, 0.18953276, 0.17014653, 0.16861208,\n",
       "        0.19433396, 0.17733018, 0.1982022 , 0.1850806 , 0.34694788,\n",
       "        0.23772327, 0.2786525 , 0.16712986, 0.2404731 , 0.17374201,\n",
       "        0.16965613, 0.20154169, 0.33721023, 0.23922549, 0.18705887,\n",
       "        0.20347488, 0.20336118, 0.22099695, 0.37099967, 0.27207936,\n",
       "        0.20805695, 0.24127198, 0.21466185, 0.30044029, 0.37875885,\n",
       "        0.24319061, 0.17223827, 0.17360768, 0.17765017, 0.36351382,\n",
       "        0.29609023, 0.16773321, 0.16546009, 0.19134653, 0.23114277,\n",
       "        0.17132933, 0.33835463, 0.18523357, 0.25909367, 0.31961514,\n",
       "        0.2014573 , 0.27145972, 0.20087845, 0.31514939, 0.22383285,\n",
       "        0.19095358, 0.3846169 , 0.16621674, 0.17374828, 0.16650445,\n",
       "        0.18258425, 0.32347516, 0.26457869, 0.36201324, 0.22765395,\n",
       "        0.18819726, 0.16411728, 0.28885356, 0.23703865, 0.16404271,\n",
       "        0.20554857, 0.1652222 , 0.17683412, 0.24408521, 0.18366831,\n",
       "        0.28276733, 0.16567552, 0.28335668, 0.16665162, 0.16432556,\n",
       "        0.20941056, 0.20043771, 0.17361054, 0.2791896 , 0.26502646,\n",
       "        0.16591532, 0.24278907, 0.16361677, 0.22766361, 0.17771665,\n",
       "        0.22241873, 0.23478167, 0.165976  , 0.18152909, 0.20313922,\n",
       "        0.16685158, 0.17571184, 0.2113668 , 0.16992388, 0.17699745,\n",
       "        0.22349477, 0.27948705, 0.19703951, 0.23945555, 0.16378878,\n",
       "        0.17254871, 0.17064747, 0.22152639, 0.26178966, 0.19541342,\n",
       "        0.16366145, 0.34335549, 0.19038842, 0.16378684, 0.17303503,\n",
       "        0.16377556, 0.36309406, 0.21348034, 0.26199523, 0.19572754,\n",
       "        0.24185366, 0.17255206, 0.20288511, 0.20429678, 0.1636163 ,\n",
       "        0.25837017, 0.19073858, 0.20772338, 0.23395138, 0.16440413,\n",
       "        0.21399243, 0.35361385, 0.20187385, 0.19557657, 0.18129185,\n",
       "        0.20929465, 0.2745141 , 0.35722551, 0.25389605, 0.23048492,\n",
       "        0.33589262, 0.17235456, 0.30448254, 0.16364092, 0.16577794,\n",
       "        0.16365685, 0.24553498, 0.16444711, 0.21157062, 0.16490991,\n",
       "        0.16362449, 0.33717599, 0.16782759, 0.19666871, 0.25129543,\n",
       "        0.20860945, 0.18980284, 0.24703561, 0.34288333, 0.24465979,\n",
       "        0.22858816, 0.28610367, 0.18694112, 0.20453891, 0.19274782,\n",
       "        0.23113825, 0.2393966 , 0.30216052, 0.29664445, 0.21863166,\n",
       "        0.21015743, 0.2419385 , 0.27210746, 0.19875673, 0.22176511,\n",
       "        0.25190562, 0.16362239, 0.31934881, 0.21268084, 0.283774  ,\n",
       "        0.19859991, 0.22839079, 0.21384959, 0.16401525, 0.21175017,\n",
       "        0.2356099 , 0.16510887, 0.20192063, 0.19047423, 0.177632  ,\n",
       "        0.21229822, 0.28075675, 0.16366685, 0.37510125, 0.2099081 ,\n",
       "        0.29344582, 0.17046279, 0.23530129, 0.36214869, 0.33560976,\n",
       "        0.20937246, 0.16656634, 0.17848463, 0.17787292, 0.26657768,\n",
       "        0.1669212 , 0.21076218, 0.16753715, 0.1804208 , 0.17613976,\n",
       "        0.38581935, 0.18550179, 0.29215868, 0.20089341, 0.33601275,\n",
       "        0.19247944, 0.17135032, 0.26420654, 0.22994721, 0.17508641,\n",
       "        0.22868847, 0.1673979 , 0.26994629, 0.3341967 , 0.16556146,\n",
       "        0.17312055, 0.22042327, 0.21263584, 0.18091073, 0.16833873,\n",
       "        0.23243018, 0.23417435, 0.36111749, 0.19019041, 0.18065305,\n",
       "        0.32518877, 0.17481824, 0.22108585, 0.16796756, 0.23218798,\n",
       "        0.21118225, 0.30338598, 0.21247218, 0.20876442, 0.29332005,\n",
       "        0.16453744, 0.22647767, 0.22225392, 0.3019648 , 0.19877   ,\n",
       "        0.18834362, 0.1799282 , 0.17303661, 0.24545219, 0.20077907,\n",
       "        0.16423601, 0.19585314, 0.17032903, 0.23396414, 0.18030532,\n",
       "        0.21656877, 0.16625417, 0.27834659, 0.16396447, 0.25972806,\n",
       "        0.18297815, 0.20718661, 0.27420617, 0.23044048, 0.21064255,\n",
       "        0.1721977 , 0.25825224, 0.25198358, 0.25644086, 0.22271415,\n",
       "        0.22358069, 0.22161421, 0.35717259, 0.28773606, 0.28068234,\n",
       "        0.1897776 , 0.17741076, 0.22182681, 0.16905601, 0.36175075,\n",
       "        0.30152326, 0.24020363, 0.3551957 , 0.16693239, 0.37896778,\n",
       "        0.16366887, 0.24036854, 0.16383536, 0.29203934, 0.18272578,\n",
       "        0.16731285, 0.19439782, 0.1641977 , 0.18216368, 0.25918676,\n",
       "        0.20568043, 0.33999928, 0.20793968, 0.20364659, 0.22612543,\n",
       "        0.22662747, 0.2012611 , 0.17311756, 0.25394455, 0.22275359,\n",
       "        0.26171613, 0.16363252, 0.20603368, 0.19868455, 0.16361678,\n",
       "        0.27676506, 0.25696418, 0.23287487, 0.17657036, 0.1828283 ,\n",
       "        0.24317643, 0.22173635, 0.27912625, 0.17000643, 0.38114394,\n",
       "        0.24038216, 0.22948987, 0.16872419, 0.31059996, 0.16370295,\n",
       "        0.19147652, 0.16600426, 0.16404002, 0.18336117, 0.22068142,\n",
       "        0.16525549, 0.16508779, 0.21915866, 0.34051571, 0.2165492 ,\n",
       "        0.29244186, 0.25619033, 0.22790191, 0.30827564, 0.26082915,\n",
       "        0.19504189, 0.19423822, 0.26252626, 0.17002984, 0.16459987,\n",
       "        0.16382422, 0.36526463, 0.2968739 , 0.20045442, 0.24016281,\n",
       "        0.18120996, 0.2794423 , 0.22939953, 0.17748259, 0.33888535,\n",
       "        0.29341692, 0.20280513, 0.1844298 , 0.38291739, 0.21511052,\n",
       "        0.192665  , 0.28509634, 0.20657929, 0.17680172, 0.2649239 ,\n",
       "        0.19157843, 0.19026683, 0.19046019, 0.23008085, 0.20132751,\n",
       "        0.18267284, 0.29385866, 0.31579422, 0.19594898, 0.24391053,\n",
       "        0.17808704, 0.22702757, 0.18432078, 0.34249732, 0.29587718,\n",
       "        0.26557408, 0.17037324, 0.17028469, 0.25246241, 0.29697995,\n",
       "        0.18360938, 0.20693274, 0.27249055, 0.1654897 , 0.17595152,\n",
       "        0.38550602, 0.22329263, 0.33414705, 0.16393195, 0.29298769,\n",
       "        0.16469333, 0.19870972, 0.17983253, 0.31479115, 0.20757036,\n",
       "        0.37353278, 0.1976905 , 0.31276557, 0.21285336, 0.3612701 ,\n",
       "        0.19349163, 0.24880026, 0.33199083, 0.31320658, 0.16440895,\n",
       "        0.33463018, 0.21004171, 0.31601107, 0.17035761, 0.27309299,\n",
       "        0.24250913, 0.24153292, 0.20755804, 0.37052097, 0.25203073,\n",
       "        0.20832109, 0.18542486, 0.2026662 , 0.29247783, 0.19507257,\n",
       "        0.21362678, 0.24349363, 0.20499568, 0.17546525, 0.25842067,\n",
       "        0.17419288, 0.1825296 , 0.17273013, 0.36384683, 0.16542036,\n",
       "        0.17525464, 0.1863046 , 0.37357753, 0.29383516, 0.17195942,\n",
       "        0.16387702, 0.22098257, 0.3424299 , 0.16375602, 0.16415705,\n",
       "        0.22696196, 0.26682261, 0.25045058, 0.23854531, 0.2290101 ,\n",
       "        0.16556009, 0.25482185, 0.3836364 , 0.2241563 , 0.164711  ,\n",
       "        0.19267311, 0.21934416, 0.37864302, 0.17412234, 0.18110458,\n",
       "        0.17893749, 0.18277126, 0.22590338, 0.29833054, 0.18733317,\n",
       "        0.2044702 , 0.33138484, 0.2823473 , 0.21850054, 0.17450703,\n",
       "        0.16420797, 0.23228504, 0.20192286, 0.29007776, 0.25628725,\n",
       "        0.21771933, 0.19120965, 0.21946385, 0.16527638, 0.16532619,\n",
       "        0.235201  , 0.25757551, 0.20722971, 0.3561604 , 0.18532503,\n",
       "        0.23037422, 0.2545833 , 0.17194963, 0.38190781, 0.20401248,\n",
       "        0.16455192, 0.34455822, 0.24317928, 0.20720944, 0.35703863,\n",
       "        0.26805714, 0.23038195, 0.19519855, 0.20616274, 0.20271931,\n",
       "        0.28326895, 0.17837269, 0.21601846, 0.22303734, 0.22645418,\n",
       "        0.34071899, 0.17679857, 0.1780421 , 0.18768782, 0.337172  ,\n",
       "        0.21285295, 0.19970695, 0.25772488, 0.32875425, 0.33411084,\n",
       "        0.20158295, 0.36708588, 0.22328282, 0.21925972, 0.24783661]))"
      ]
     },
     "execution_count": 9,
     "metadata": {},
     "output_type": "execute_result"
    }
   ],
   "source": [
    "pfolio_returns = []\n",
    "pfolio_volatilities = []\n",
    "\n",
    "for x in range (1000):\n",
    "    weights = np.random.random(2)\n",
    "    weights /= np.sum(weights)\n",
    "    pfolio_returns.append(np.sum(weights * log_returns.mean()) * 250)\n",
    "    pfolio_volatilities.append(np.sqrt(np.dot(weights.T,np.dot(log_returns.cov() * 250, weights))))\n",
    "    \n",
    "pfolio_returns = np.array(pfolio_returns)\n",
    "pfolio_volatilities = np.array(pfolio_volatilities)\n",
    "\n",
    "pfolio_returns, pfolio_volatilities"
   ]
  },
  {
   "cell_type": "markdown",
   "metadata": {},
   "source": [
    "The arrays above contain valuable information, but we can't plot it. In order to plot, we need to turn the arrays into a dataframe object. We can use a dictionary for this by assigning the column keys to the columns."
   ]
  },
  {
   "cell_type": "code",
   "execution_count": 10,
   "metadata": {},
   "outputs": [
    {
     "data": {
      "text/html": [
       "<div>\n",
       "<style scoped>\n",
       "    .dataframe tbody tr th:only-of-type {\n",
       "        vertical-align: middle;\n",
       "    }\n",
       "\n",
       "    .dataframe tbody tr th {\n",
       "        vertical-align: top;\n",
       "    }\n",
       "\n",
       "    .dataframe thead th {\n",
       "        text-align: right;\n",
       "    }\n",
       "</style>\n",
       "<table border=\"1\" class=\"dataframe\">\n",
       "  <thead>\n",
       "    <tr style=\"text-align: right;\">\n",
       "      <th></th>\n",
       "      <th>Return</th>\n",
       "      <th>Volatility</th>\n",
       "    </tr>\n",
       "  </thead>\n",
       "  <tbody>\n",
       "    <tr>\n",
       "      <th>0</th>\n",
       "      <td>0.084336</td>\n",
       "      <td>0.170083</td>\n",
       "    </tr>\n",
       "    <tr>\n",
       "      <th>1</th>\n",
       "      <td>0.140519</td>\n",
       "      <td>0.182039</td>\n",
       "    </tr>\n",
       "    <tr>\n",
       "      <th>2</th>\n",
       "      <td>0.133982</td>\n",
       "      <td>0.176095</td>\n",
       "    </tr>\n",
       "    <tr>\n",
       "      <th>3</th>\n",
       "      <td>0.199903</td>\n",
       "      <td>0.268783</td>\n",
       "    </tr>\n",
       "    <tr>\n",
       "      <th>4</th>\n",
       "      <td>0.229974</td>\n",
       "      <td>0.325009</td>\n",
       "    </tr>\n",
       "  </tbody>\n",
       "</table>\n",
       "</div>"
      ],
      "text/plain": [
       "     Return  Volatility\n",
       "0  0.084336    0.170083\n",
       "1  0.140519    0.182039\n",
       "2  0.133982    0.176095\n",
       "3  0.199903    0.268783\n",
       "4  0.229974    0.325009"
      ]
     },
     "execution_count": 10,
     "metadata": {},
     "output_type": "execute_result"
    }
   ],
   "source": [
    "portfolios = pd.DataFrame({'Return': pfolio_returns, 'Volatility': pfolio_volatilities})\n",
    "portfolios.head()"
   ]
  },
  {
   "cell_type": "markdown",
   "metadata": {},
   "source": [
    "Now let's plot the dataframe object we created!\n",
    "\n",
    "As you can see, it has a boomerang shape. That's exactly how most of these portfolio optimization plots are supposed to look. At the bottom end of the plot is the risk/return for GLD (6.8% return/ 18.3%std), and at the top-right end is the risk/return for AMZN (26.1% return/ 38.6%std). \n",
    "\n",
    "In the middle, is what the risk/return dynamic looks like as you blend the 2 in a portfolio. Towards the top is more AMZN allocated, toward the bottom is more GLD. "
   ]
  },
  {
   "cell_type": "code",
   "execution_count": 11,
   "metadata": {},
   "outputs": [
    {
     "data": {
      "text/plain": [
       "Text(0, 0.5, 'Expected Return')"
      ]
     },
     "execution_count": 11,
     "metadata": {},
     "output_type": "execute_result"
    },
    {
     "data": {
      "image/png": "[encoded data removed]",
      "text/plain": [
       "<Figure size 720x432 with 1 Axes>"
      ]
     },
     "metadata": {},
     "output_type": "display_data"
    }
   ],
   "source": [
    "portfolios.plot(x='Volatility', y='Return',kind = 'scatter',figsize=(10,6));\n",
    "plt.xlabel('Expected Volatility')\n",
    "plt.ylabel('Expected Return')"
   ]
  },
  {
   "cell_type": "markdown",
   "metadata": {},
   "source": [
    "**Conservative Perspective:**\n",
    "\n",
    "Where the curve has the least risk (around 16% std), it looks to be around 80% GLD and 20% AMZN. Surprisingly, that point has a higher return **and a lower risk** than we would have if we were invested 100% in GLD. That disproves the notion that higher return implies higher risk. We are moving from an individual stock paradigm to a portfolio paradigm. "
   ]
  },
  {
   "cell_type": "markdown",
   "metadata": {},
   "source": [
    "**Sharpe Perspective:**\n",
    "\n",
    "Ideally, we want to maximize return while minimizing risk. That means most people want to be as close to the top left corner of that graph as possible.\n",
    "That's where the **Sharpe ratio** comes in: the average return earned in excess of the risk-free rate per unit of volatility. In essence, Sharpe figured out a way to calculate the point on this curve which is closest to the top left. \n",
    "\n",
    "If we go all in on Amazon, we still have the highest return, but we also have a proportionately higher amount of risk per percent of return. If we are somewhere in the middle, we will theoretically optimize our portfolios by minimizing risk and maximizing returns. "
   ]
  },
  {
   "cell_type": "markdown",
   "metadata": {},
   "source": [
    "**So what is the optimal portfolio balance of GLD and AMZN?**\n",
    "\n",
    "I found a program on Github that actually automates this process for us. The image below shows the exact portfolio specifications for AMZN and GLD from both a minimum volatility perspective and a maximum Sharpe ratio perspective. I tweaked the original code slightly and plugged our data into Ricky Kim's code to receive this image:\n",
    "\n",
    "![](https://imgur.com/yz3KFO1.jpg)\n",
    "\n",
    "But even based on strictly the original code I provided, you can get a sense which point on the curve minimizes risk (closest to the left), which maximizes Sharpe (closest to the top left), and what weight of each stock is used for each of those points (by guaging how far along the line the points are). \n",
    "\n",
    "Big thanks to Ricky Kim for the inspiration and great article:\n",
    "https://towardsdatascience.com/efficient-frontier-portfolio-optimisation-in-python-e7844051e7f"
   ]
  },
  {
   "cell_type": "markdown",
   "metadata": {},
   "source": [
    "\n",
    "\n"
   ]
  }
 ],
 "metadata": {
  "kernelspec": {
   "display_name": "Python 3",
   "language": "python",
   "name": "python3"
  },
  "language_info": {
   "codemirror_mode": {
    "name": "ipython",
    "version": 3
   },
   "file_extension": ".py",
   "mimetype": "text/x-python",
   "name": "python",
   "nbconvert_exporter": "python",
   "pygments_lexer": "ipython3",
   "version": "3.6.4"
  }
 },
 "nbformat": 4,
 "nbformat_minor": 1
}
